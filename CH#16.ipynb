{
 "cells": [
  {
   "cell_type": "code",
   "execution_count": 1,
   "metadata": {},
   "outputs": [
    {
     "name": "stdout",
     "output_type": "stream",
     "text": [
      "Buggati and  Lamborghini, both are Fast !\n",
      "Buggati and Minicooper, both are  amazing ! \n",
      "Qourma is not a Car:/ \n",
      "['Qourma', 'Buggati', 'Ferrari', 'Subaru', 'Porche', 'GTR', 'Lamborghini', 'Minicooper']\n"
     ]
    }
   ],
   "source": [
    "Cars = [ \"Buggati\", \"Ferrari\", \"Subaru\", \"Porche\", \"GTR\", \"Lamborghini\" ]\n",
    "\n",
    "print(str(Cars[0]) + \" and  \" + str(Cars[5])+\", both are Fast !\")\n",
    "\n",
    "Cars.append(\"Minicooper\")\n",
    "\n",
    "print(str(Cars[0]) + \" and \" + str(Cars[6])+\", both are  amazing ! \")\n",
    "\n",
    "Cars.insert(0,\"Qourma\")\n",
    "\n",
    "print(str(Cars[0]) +\" is not a Car:/ \")\n",
    "\n",
    "print(str(Cars))"
   ]
  },
  {
   "cell_type": "code",
   "execution_count": null,
   "metadata": {},
   "outputs": [],
   "source": []
  }
 ],
 "metadata": {
  "kernelspec": {
   "display_name": "Python 3",
   "language": "python",
   "name": "python3"
  },
  "language_info": {
   "codemirror_mode": {
    "name": "ipython",
    "version": 3
   },
   "file_extension": ".py",
   "mimetype": "text/x-python",
   "name": "python",
   "nbconvert_exporter": "python",
   "pygments_lexer": "ipython3",
   "version": "3.6.5"
  }
 },
 "nbformat": 4,
 "nbformat_minor": 2
}
