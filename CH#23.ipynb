{
 "cells": [
  {
   "cell_type": "code",
   "execution_count": 2,
   "metadata": {},
   "outputs": [
    {
     "name": "stdout",
     "output_type": "stream",
     "text": [
      "Display multiplication table of? 20\n",
      "20  *  1  =  20\n",
      "20  *  2  =  40\n",
      "20  *  3  =  60\n",
      "20  *  4  =  80\n",
      "20  *  5  =  100\n",
      "20  *  6  =  120\n",
      "20  *  7  =  140\n",
      "20  *  8  =  160\n",
      "20  *  9  =  180\n",
      "20  *  10  =  200\n"
     ]
    }
   ],
   "source": [
    "num = int(input(\"Display multiplication table of? \"))\n",
    "for x in range(1,11):\n",
    "    print (num , \" * \" , x ,\" = \",num*x)"
   ]
  },
  {
   "cell_type": "code",
   "execution_count": null,
   "metadata": {},
   "outputs": [],
   "source": []
  }
 ],
 "metadata": {
  "kernelspec": {
   "display_name": "Python 3",
   "language": "python",
   "name": "python3"
  },
  "language_info": {
   "codemirror_mode": {
    "name": "ipython",
    "version": 3
   },
   "file_extension": ".py",
   "mimetype": "text/x-python",
   "name": "python",
   "nbconvert_exporter": "python",
   "pygments_lexer": "ipython3",
   "version": "3.6.5"
  }
 },
 "nbformat": 4,
 "nbformat_minor": 2
}
