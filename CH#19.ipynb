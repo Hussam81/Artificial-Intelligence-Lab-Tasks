{
 "cells": [
  {
   "cell_type": "code",
   "execution_count": 6,
   "metadata": {},
   "outputs": [
    {
     "name": "stdout",
     "output_type": "stream",
     "text": [
      "['Cricket ', 'Baseball ', 'Nihari', 'Football', 'Karahi', 'Salad', 'Kabab', 'Polaow']\n",
      "Cricket Football are best sports game\n"
     ]
    }
   ],
   "source": [
    "Mix = [ \"Cricket \",\"Baseball \", \"Nihari\", \"Football\", \"Karahi\", \"Salad\", \"Kabab\", \"Polaow\" ]\n",
    "print(str(Mix))\n",
    "\n",
    "\n",
    "new_List = Mix.pop(0) + Mix.pop(2) \n",
    "\n",
    "print(new_List +  \" are best sports game\")"
   ]
  },
  {
   "cell_type": "code",
   "execution_count": null,
   "metadata": {},
   "outputs": [],
   "source": []
  }
 ],
 "metadata": {
  "kernelspec": {
   "display_name": "Python 3",
   "language": "python",
   "name": "python3"
  },
  "language_info": {
   "codemirror_mode": {
    "name": "ipython",
    "version": 3
   },
   "file_extension": ".py",
   "mimetype": "text/x-python",
   "name": "python",
   "nbconvert_exporter": "python",
   "pygments_lexer": "ipython3",
   "version": "3.6.5"
  }
 },
 "nbformat": 4,
 "nbformat_minor": 2
}
